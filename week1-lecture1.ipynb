{
 "metadata": {
  "name": "week1-lecture1"
 },
 "nbformat": 3,
 "nbformat_minor": 0,
 "worksheets": [
  {
   "cells": [
    {
     "cell_type": "markdown",
     "metadata": {},
     "source": [
      "# The Learning Problem"
     ]
    },
    {
     "cell_type": "markdown",
     "metadata": {},
     "source": [
      "## Lecture"
     ]
    },
    {
     "cell_type": "markdown",
     "metadata": {},
     "source": [
      "Use machine learning when\n",
      "\n",
      "- a pattern exists\n",
      "- we cannot pin it down mathematically\n",
      "- we have data on it"
     ]
    },
    {
     "cell_type": "markdown",
     "metadata": {},
     "source": [
      "Components of learning, formalization:\n",
      "\n",
      "- input $x \\in X$ (ex: $x$ is a d-dimensional vector)\n",
      "- output $y \\in Y$ (ex: $y$ is binary 1/0)\n",
      "- $f$ target function such that $f: X \\rightarrow Y$. $f$ is *unknown*.\n",
      "- data ($x_1$, $y_1$) \u2026 ($x_n$, $y_n$)\n",
      "- $g$ hypothesis, such that $g: X \\rightarrow Y$. $g$ is an approximation of $f$ built from data.\n",
      "\n",
      "Goal: make $g$ the best approximation of $f$."
     ]
    },
    {
     "cell_type": "raw",
     "metadata": {},
     "source": [
      "Training examples\n",
      "                 \\\n",
      "               ---==> Learning algorithm --> Final hypothesis\n",
      "              /\n",
      "Hypothesis set"
     ]
    },
    {
     "cell_type": "markdown",
     "metadata": {},
     "source": [
      "## Q & A"
     ]
    },
    {
     "cell_type": "markdown",
     "metadata": {},
     "source": [
      "Q. How does the convergence of the *perceptron learning algorithm* change with dimensionality of the data?\n",
      "A. Badly. This algorithm is shown because of its simplicity, don't focus on it we will see better algo by the end of the course.\n",
      "\n",
      "Q. How does statistics compare with machine learning?  \n",
      "A. Statistics use assumptions to have a proof, whereas machine learning make few assumptions to cover a broader territory.\n",
      "\n",
      "Q. Bottleneck of machine learning?  \n",
      "A. Two types: computational bottleneck (time) and generalization (learn instead of memorize), the later is the hardest."
     ]
    }
   ],
   "metadata": {}
  }
 ]
}