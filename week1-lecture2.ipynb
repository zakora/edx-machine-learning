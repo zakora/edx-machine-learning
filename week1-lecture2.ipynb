{
 "metadata": {
  "name": "week1-lecture2"
 },
 "nbformat": 3,
 "nbformat_minor": 0,
 "worksheets": [
  {
   "cells": [
    {
     "cell_type": "markdown",
     "metadata": {},
     "source": [
      "# Is learning feasible?"
     ]
    },
    {
     "cell_type": "markdown",
     "metadata": {},
     "source": [
      "## Lecture"
     ]
    },
    {
     "cell_type": "markdown",
     "metadata": {},
     "source": [
      "*Hoeffding's inequality* (valid for 1 experiment), probability that the sample has a meaning for the population\n",
      "\n",
      "$ P ( |\\nu - \\mu| > \\epsilon) \\leq 2 e^{-2 \\epsilon^2 N} $ with:\n",
      "\n",
      "- $\\mu$ probability of an event $E$\n",
      "- $\\nu$ sample frequency of the event $E$\n",
      "- $\\epsilon$ tolerance\n",
      "- $N$ sample size\n",
      "\n",
      "$\\mu = \\nu$ is PAC (possibly approximetly correct)"
     ]
    },
    {
     "cell_type": "markdown",
     "metadata": {},
     "source": [
      "Relate to learning, hypothesis function $h$ has a probability to be close to the target function $f$ ($h = f$ is PAC)."
     ]
    },
    {
     "cell_type": "markdown",
     "metadata": {},
     "source": [
      "*Notations*:\n",
      "\n",
      "- $\\nu$ is *in sample*, denoted by $E_{in}$ (ie. error in sample)\n",
      "- $\\mu$ is *out of sample*, denoted by $E_{out}$ (ie. error out of sample)\n",
      "\n",
      "If we perform well out of sample (ie. $E_{out}$ is small) then we must have really learn.  \n",
      "But we are actually trying to see performance through our hypothesis $h$, so these errors depends on $h$. Leading to new notations:\n",
      "\n",
      "- $E_{in}(h)$ (was $\\nu$)\n",
      "- $E_{out}(h)$ (was $\\mu$)\n",
      "- $P ( |E_{in}(h) - E_{out}(h)| > \\epsilon) \\leq 2 e^{-2 \\epsilon^2 N} $ (valid for one $h$)\n",
      "- $P ( |E_{in}(h) - E_{out}(h)| > \\epsilon) \\leq 2 M e^{-2 \\epsilon^2 N} $ (valid for M hypotheses $h$)\n"
     ]
    },
    {
     "cell_type": "markdown",
     "metadata": {},
     "source": [
      "## Q & A"
     ]
    },
    {
     "cell_type": "markdown",
     "metadata": {},
     "source": [
      "Q. What if the Hoeffding's inequality gives something trivial like p < 2?  \n",
      "A. Either data size insufficient, or tolerance to stringent."
     ]
    },
    {
     "cell_type": "code",
     "collapsed": false,
     "input": [],
     "language": "python",
     "metadata": {},
     "outputs": []
    }
   ],
   "metadata": {}
  }
 ]
}